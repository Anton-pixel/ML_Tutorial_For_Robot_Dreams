{
 "cells": [
  {
   "cell_type": "markdown",
   "metadata": {},
   "source": [
    "# Занятие 3: Метод k-ближайших соседей"
   ]
  },
  {
   "cell_type": "code",
   "execution_count": 134,
   "metadata": {},
   "outputs": [],
   "source": [
    "# https://towardsdatascience.com/machine-learning-basics-with-the-k-nearest-neighbors-algorithm-6a6e71d01761"
   ]
  },
  {
   "cell_type": "markdown",
   "metadata": {},
   "source": [
    "## Загружаем библиотеки"
   ]
  },
  {
   "cell_type": "code",
   "execution_count": 149,
   "metadata": {},
   "outputs": [],
   "source": [
    "import numpy as np\n",
    "import pandas as pd\n",
    "from pandas.api.types import is_numeric_dtype\n",
    "import requests\n",
    "import csv\n",
    "import matplotlib.pyplot as plt\n",
    "%matplotlib inline\n",
    "import seaborn as sns\n",
    "\n",
    "from sklearn.linear_model import LinearRegression\n",
    "from sklearn.preprocessing import PolynomialFeatures\n",
    "from sklearn.neighbors import KNeighborsRegressor, KNeighborsClassifier\n",
    "from sklearn.model_selection import train_test_split\n",
    "from sklearn import datasets\n",
    "from sklearn.metrics import mean_squared_error, r2_score\n",
    "from sklearn.pipeline import make_pipeline\n",
    "\n",
    "from sklearn.metrics import accuracy_score, f1_score, precision_score, recall_score\n",
    "\n",
    "from scipy import stats\n",
    "from scipy.interpolate import interp1d\n",
    "from scipy import optimize\n",
    "\n",
    "import csv"
   ]
  },
  {
   "cell_type": "markdown",
   "metadata": {},
   "source": [
    "## Загружаем и анализируем датасет о пожизненной ценности клиента"
   ]
  },
  {
   "cell_type": "code",
   "execution_count": 136,
   "metadata": {},
   "outputs": [
    {
     "name": "stdout",
     "output_type": "stream",
     "text": [
      "Index(['CustomerID', 'Count', 'Country', 'State', 'City', 'Zip Code',\n",
      "       'Lat Long', 'Latitude', 'Longitude', 'Gender', 'Senior Citizen',\n",
      "       'Partner', 'Dependents', 'Tenure Months', 'Phone Service',\n",
      "       'Multiple Lines', 'Internet Service', 'Online Security',\n",
      "       'Online Backup', 'Device Protection', 'Tech Support', 'Streaming TV',\n",
      "       'Streaming Movies', 'Contract', 'Paperless Billing', 'Payment Method',\n",
      "       'Monthly Charges', 'Total Charges', 'Churn Label', 'Churn Value',\n",
      "       'Churn Score', 'CLTV', 'Churn Reason'],\n",
      "      dtype='object')\n",
      "(7043, 33)\n"
     ]
    }
   ],
   "source": [
    "# https://en.wikipedia.org/wiki/Churn_rate\n",
    "data_file = \"../data/Telco_customer_churn_2020.csv\"\n",
    "df = pd.read_csv(data_file, encoding = \"utf-8\" , engine='python')\n",
    "\n",
    "print(df.columns)\n",
    "print(df.shape)"
   ]
  },
  {
   "cell_type": "code",
   "execution_count": 137,
   "metadata": {},
   "outputs": [
    {
     "name": "stdout",
     "output_type": "stream",
     "text": [
      "Index(['Count', 'Zip Code', 'Latitude', 'Longitude', 'Tenure Months',\n",
      "       'Monthly Charges', 'Churn Value', 'Churn Score', 'CLTV'],\n",
      "      dtype='object')\n"
     ]
    }
   ],
   "source": [
    "# Оставим только числа\n",
    "num_cols = [col for col in df.columns.values if is_numeric_dtype(df[col])]\n",
    "df = df[num_cols]\n",
    "df = df.astype(float)\n",
    "\n",
    "print(df.columns)"
   ]
  },
  {
   "cell_type": "code",
   "execution_count": 138,
   "metadata": {},
   "outputs": [
    {
     "name": "stdout",
     "output_type": "stream",
     "text": [
      "Count  corr:  nan\n",
      "Zip Code  corr:  0.0033464802711836786\n",
      "Latitude  corr:  -0.0033844365616311997\n",
      "Longitude  corr:  0.004593811469422537\n",
      "Tenure Months  corr:  -0.3522286701130772\n",
      "Monthly Charges  corr:  0.19335642223784674\n",
      "Churn Value  corr:  1.0\n",
      "Churn Score  corr:  0.6648970311816232\n",
      "CLTV  corr:  -0.1274631017174495\n"
     ]
    }
   ],
   "source": [
    "# Посмотрим корреляции\n",
    "for col in df.columns.values:\n",
    "    print(col, \" corr: \", df[col].corr(df['Churn Value']))"
   ]
  },
  {
   "cell_type": "markdown",
   "metadata": {},
   "source": [
    "### Объединяем"
   ]
  },
  {
   "cell_type": "code",
   "execution_count": 139,
   "metadata": {},
   "outputs": [],
   "source": [
    "df_tenure =  df['Tenure Months']\n",
    "df_charges = df['Monthly Charges']\n",
    "df_churn = df['Churn Value']\n",
    "df = pd.concat([df_tenure, df_charges, df_churn], axis=1).dropna()"
   ]
  },
  {
   "cell_type": "markdown",
   "metadata": {},
   "source": [
    "### Визуализируем данные"
   ]
  },
  {
   "cell_type": "code",
   "execution_count": 140,
   "metadata": {},
   "outputs": [
    {
     "name": "stderr",
     "output_type": "stream",
     "text": [
      "No handles with labels found to put in legend.\n"
     ]
    },
    {
     "data": {
      "image/png": "[encoded data removed]",
      "text/plain": [
       "<Figure size 1152x432 with 1 Axes>"
      ]
     },
     "metadata": {
      "needs_background": "light"
     },
     "output_type": "display_data"
    }
   ],
   "source": [
    "df['Churn Value'].hist(bins=100, figsize=(16,6))\n",
    "plt.title('Data distribution', fontsize=15)\n",
    "plt.xlabel('Churn Value', fontsize=15)\n",
    "plt.ylabel('Count', fontsize=15)\n",
    "plt.legend(fontsize=20)\n",
    "plt.show()"
   ]
  },
  {
   "cell_type": "code",
   "execution_count": 141,
   "metadata": {},
   "outputs": [
    {
     "name": "stderr",
     "output_type": "stream",
     "text": [
      "No handles with labels found to put in legend.\n"
     ]
    },
    {
     "data": {
      "image/png": "[encoded data removed]",
      "text/plain": [
       "<Figure size 1152x432 with 1 Axes>"
      ]
     },
     "metadata": {
      "needs_background": "light"
     },
     "output_type": "display_data"
    }
   ],
   "source": [
    "df['Tenure Months'].hist(bins=100, figsize=(16,6))\n",
    "plt.title('Data distribution', fontsize=15)\n",
    "plt.xlabel('Tenure Months', fontsize=15)\n",
    "plt.ylabel('Count', fontsize=15)\n",
    "plt.legend(fontsize=20)\n",
    "plt.show()"
   ]
  },
  {
   "cell_type": "code",
   "execution_count": 142,
   "metadata": {},
   "outputs": [
    {
     "name": "stderr",
     "output_type": "stream",
     "text": [
      "No handles with labels found to put in legend.\n"
     ]
    },
    {
     "data": {
      "image/png": "[encoded data removed]",
      "text/plain": [
       "<Figure size 1152x432 with 1 Axes>"
      ]
     },
     "metadata": {
      "needs_background": "light"
     },
     "output_type": "display_data"
    }
   ],
   "source": [
    "df['Monthly Charges'].hist(bins=100, figsize=(16,6))\n",
    "plt.title('Data distribution', fontsize=15)\n",
    "plt.xlabel('Monthly Charges', fontsize=15)\n",
    "plt.ylabel('Count', fontsize=15)\n",
    "plt.legend(fontsize=20)\n",
    "plt.show()"
   ]
  },
  {
   "cell_type": "code",
   "execution_count": 143,
   "metadata": {},
   "outputs": [
    {
     "data": {
      "text/plain": [
       "<AxesSubplot:xlabel='Churn Value', ylabel='Monthly Charges'>"
      ]
     },
     "execution_count": 143,
     "metadata": {},
     "output_type": "execute_result"
    },
    {
     "data": {
      "image/png": "[encoded data removed]",
      "text/plain": [
       "<Figure size 432x288 with 1 Axes>"
      ]
     },
     "metadata": {
      "needs_background": "light"
     },
     "output_type": "display_data"
    }
   ],
   "source": [
    "sns.boxplot(x = df[\"Churn Value\"], y = df[\"Monthly Charges\"])"
   ]
  },
  {
   "cell_type": "code",
   "execution_count": 144,
   "metadata": {},
   "outputs": [
    {
     "data": {
      "text/plain": [
       "<AxesSubplot:xlabel='Churn Value', ylabel='Tenure Months'>"
      ]
     },
     "execution_count": 144,
     "metadata": {},
     "output_type": "execute_result"
    },
    {
     "data": {
      "image/png": "[encoded data removed]",
      "text/plain": [
       "<Figure size 432x288 with 1 Axes>"
      ]
     },
     "metadata": {
      "needs_background": "light"
     },
     "output_type": "display_data"
    }
   ],
   "source": [
    "sns.boxplot(x = df[\"Churn Value\"], y = df[\"Tenure Months\"])"
   ]
  },
  {
   "cell_type": "markdown",
   "metadata": {},
   "source": [
    "## Найдем и уберем outlier"
   ]
  },
  {
   "cell_type": "code",
   "execution_count": 145,
   "metadata": {},
   "outputs": [
    {
     "name": "stdout",
     "output_type": "stream",
     "text": [
      "(array([], dtype=int64), array([], dtype=int64))\n"
     ]
    }
   ],
   "source": [
    "# Найти outlier\n",
    "z = np.abs(stats.zscore(df))\n",
    "threshold = 3\n",
    "print(np.where(z > threshold))\n",
    "\n",
    "# Убрать outlier\n",
    "df = df[(z < threshold).all(axis=1)]"
   ]
  },
  {
   "cell_type": "markdown",
   "metadata": {},
   "source": [
    "## Нормализируем дата"
   ]
  },
  {
   "cell_type": "code",
   "execution_count": 146,
   "metadata": {},
   "outputs": [],
   "source": [
    "# Длительность подписки\n",
    "mu_duration = df['Tenure Months'].mean()\n",
    "sigma_duration = df['Tenure Months'].std()\n",
    "scaled_duration = (df['Tenure Months'].values-mu_duration)/sigma_duration\n",
    "\n",
    "# Ежемесячные покупки\n",
    "mu_charges = df['Monthly Charges'].mean()\n",
    "sigma_charges = df['Monthly Charges'].std()\n",
    "scaled_charges = (df['Monthly Charges'].values-mu_charges)/sigma_charges\n",
    "\n",
    "x_data =np.array([scaled_duration,scaled_charges]).transpose()\n",
    "\n",
    "# churn\n",
    "y_data = np.expand_dims(df['Churn Value'], axis=1)"
   ]
  },
  {
   "cell_type": "markdown",
   "metadata": {},
   "source": [
    "## Разделяем дата на выборки"
   ]
  },
  {
   "cell_type": "code",
   "execution_count": 147,
   "metadata": {},
   "outputs": [
    {
     "name": "stdout",
     "output_type": "stream",
     "text": [
      "Data points in train set: 5634.\n",
      "Data points in val set: 1409.\n",
      "Shape of features in training data: (5634, 2)\n",
      "Shape of output in training data: (5634, 1)\n",
      "Shape of features in val data: (1409, 2)\n",
      "Shape of output in val data: (1409, 1)\n"
     ]
    }
   ],
   "source": [
    "# 20% данных будем использовать как validation dataset\n",
    "val_size = 0.2\n",
    "\n",
    "X_train, X_val, y_train, y_val = train_test_split(x_data, y_data, test_size=val_size, shuffle=True)\n",
    "print('Data points in train set: {0}.'.format(len(X_train)))\n",
    "print('Data points in val set: {0}.'.format(len(X_val)))\n",
    "print(\"Shape of features in training data: {}\".format(X_train.shape))\n",
    "print(\"Shape of output in training data: {}\".format(y_train.shape))\n",
    "print(\"Shape of features in val data: {}\".format(X_val.shape))\n",
    "print(\"Shape of output in val data: {}\".format(y_val.shape))"
   ]
  },
  {
   "cell_type": "markdown",
   "metadata": {},
   "source": [
    "## Применяем метод К ближайших соседей"
   ]
  },
  {
   "cell_type": "code",
   "execution_count": 151,
   "metadata": {},
   "outputs": [
    {
     "name": "stdout",
     "output_type": "stream",
     "text": [
      "Acc: 0.7955997161107168\n",
      "Prec: 0.6578947368421053\n",
      "Rec: 0.47043010752688175\n",
      "F1 score:  0.54858934169279\n"
     ]
    },
    {
     "name": "stderr",
     "output_type": "stream",
     "text": [
      "/home/tarask/anaconda3/envs/robot_dreams/lib/python3.7/site-packages/ipykernel_launcher.py:5: DataConversionWarning: A column-vector y was passed when a 1d array was expected. Please change the shape of y to (n_samples, ), for example using ravel().\n",
      "  \"\"\"\n"
     ]
    }
   ],
   "source": [
    "# Потроим \"модель\"\n",
    "# https://scikit-learn.org/stable/modules/generated/sklearn.neighbors.KNeighborsClassifier.html\n",
    "K = 15\n",
    "knn = KNeighborsClassifier(n_neighbors=K) #, weights = \"distance\")\n",
    "knn.fit(X_train, y_train)\n",
    "\n",
    "# Применяем\n",
    "y_pred = knn.predict(X_val)\n",
    "\n",
    "# Посчитаем качество прогнозов\n",
    "acc_sc = accuracy_score(y_val, y_pred) \n",
    "print(\"Acc:\", acc_sc)\n",
    "\n",
    "# https://en.wikipedia.org/wiki/Precision_and_recall\n",
    "prec = precision_score(y_val, y_pred)\n",
    "print(\"Prec:\", prec)\n",
    "\n",
    "rec = recall_score(y_val, y_pred)\n",
    "print(\"Rec:\", rec)\n",
    "\n",
    "# https://en.wikipedia.org/wiki/F-score\n",
    "f1_sc = f1_score(y_val, y_pred)\n",
    "print(\"F1 score: \", f1_sc)"
   ]
  },
  {
   "cell_type": "markdown",
   "metadata": {},
   "source": [
    "## Сравним с линейной регрессией"
   ]
  },
  {
   "cell_type": "code",
   "execution_count": 152,
   "metadata": {},
   "outputs": [
    {
     "name": "stdout",
     "output_type": "stream",
     "text": [
      "Prec: 0.7142857142857143\n",
      "Rec: 0.3629032258064516\n",
      "F1 score:  0.4812834224598931\n"
     ]
    }
   ],
   "source": [
    "# Построим регрессию\n",
    "regr = LinearRegression()\n",
    "regr.fit(X_train, y_train)\n",
    "\n",
    "# прогнозируем\n",
    "y_pred = regr.predict(X_val)\n",
    "\n",
    "# Округлим чтобы сделать прогноз 1 или 0\n",
    "y_pred = y_pred.round()\n",
    "\n",
    "# https://en.wikipedia.org/wiki/Precision_and_recall\n",
    "prec = precision_score(y_val, y_pred)\n",
    "print(\"Prec:\", prec)\n",
    "\n",
    "rec = recall_score(y_val, y_pred)\n",
    "print(\"Rec:\", rec)\n",
    "\n",
    "# https://en.wikipedia.org/wiki/F-score\n",
    "f1_sc = f1_score(y_val, y_pred)\n",
    "print(\"F1 score: \", f1_sc)"
   ]
  },
  {
   "cell_type": "markdown",
   "metadata": {},
   "source": [
    "## Сравним с полиномиальной регрессией"
   ]
  },
  {
   "cell_type": "code",
   "execution_count": 153,
   "metadata": {},
   "outputs": [
    {
     "name": "stdout",
     "output_type": "stream",
     "text": [
      "Acc: 0.7927608232789212\n",
      "Prec: 0.6724137931034483\n",
      "Rec: 0.41935483870967744\n",
      "F1 score:  0.5165562913907286\n"
     ]
    }
   ],
   "source": [
    "# Построить регрессию\n",
    "# Задаем степень полинома\n",
    "polynomial_degree = 9\n",
    "\n",
    "# Описиваем полиновиальную регрессию\n",
    "polyreg = make_pipeline(\n",
    "        PolynomialFeatures(degree=polynomial_degree),\n",
    "        LinearRegression()\n",
    "        )\n",
    "\n",
    "# Находим коефициенты\n",
    "polyreg.fit(X_train, y_train)\n",
    "\n",
    "# Предсказываем\n",
    "ploy_load_pred = polyreg.predict(X_val).round()\n",
    "\n",
    "\n",
    "acc_sc = accuracy_score(y_val, ploy_load_pred) # normalize=False)\n",
    "print(\"Acc:\", acc_sc)\n",
    "\n",
    "# https://en.wikipedia.org/wiki/Precision_and_recall\n",
    "prec = precision_score(y_val, ploy_load_pred)\n",
    "print(\"Prec:\", prec)\n",
    "\n",
    "rec = recall_score(y_val, ploy_load_pred)\n",
    "print(\"Rec:\", rec)\n",
    "\n",
    "f1_sc = f1_score(y_val, ploy_load_pred) # normalize=False)\n",
    "print(\"F1 score: \", f1_sc)"
   ]
  },
  {
   "cell_type": "code",
   "execution_count": 122,
   "metadata": {},
   "outputs": [
    {
     "name": "stdout",
     "output_type": "stream",
     "text": [
      "0.5280728376327769\n"
     ]
    }
   ],
   "source": [
    "# побробуем разные значения К"
   ]
  }
 ],
 "metadata": {
  "anaconda-cloud": {},
  "kernelspec": {
   "display_name": "robot_dreams",
   "language": "python",
   "name": "robot_dreams"
  },
  "language_info": {
   "codemirror_mode": {
    "name": "ipython",
    "version": 3
   },
   "file_extension": ".py",
   "mimetype": "text/x-python",
   "name": "python",
   "nbconvert_exporter": "python",
   "pygments_lexer": "ipython3",
   "version": "3.7.9"
  }
 },
 "nbformat": 4,
 "nbformat_minor": 2
}
